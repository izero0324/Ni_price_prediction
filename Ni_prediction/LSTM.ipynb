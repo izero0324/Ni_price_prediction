{
 "cells": [
  {
   "cell_type": "code",
   "execution_count": 1,
   "metadata": {},
   "outputs": [],
   "source": [
    "import torch as t\n",
    "from torch import nn\n",
    "from torch.autograd import Variable as V\n",
    "import torch.optim as optim\n",
    "import os\n",
    "import pandas as pd"
   ]
  },
  {
   "cell_type": "code",
   "execution_count": 2,
   "metadata": {},
   "outputs": [],
   "source": [
    "class LSTM(nn.Module):\n",
    "    def __init__(self,input_feature_dim,hidden_feature_dim,hidden_layer_num,batch_size,classes_num):\n",
    "        super(LSTM_signal,self).__init__()\n",
    "        self.input_feature_dim = input_feature_dim\n",
    "        self.hidden_feature_dim = hidden_feature_dim\n",
    "        self.hidden_layer_num = hidden_layer_num\n",
    "        self.batch_size = batch_size \n",
    "\n",
    "        #初始化LSTM       \n",
    "        self.lstm = nn.LSTM(input_feature_dim,hidden_feature_dim,hidden_layer_num)\n",
    "        #LSTM的輸出藉由單層的線性神經網路層分類~\n",
    "        self.linear1 = nn.Linear(hidden_feature_dim,classes_num)\n",
    "\n",
    "    def init_hidden(self):\n",
    "        h0 = t.randn(self.hidden_layer_num,self.batch_size,self.hidden_feature_dim)\n",
    "        c0 = t.randn(self.hidden_layer_num,self.batch_size,self.hidden_feature_dim)\n",
    "    def foward(self, input):\n",
    "        output,(hn,cn) = self.lstm(input,(h0,c0))\n",
    "        output= self.linear1(output[-1])         \n",
    "        return output,(hn,cn)\n"
   ]
  },
  {
   "cell_type": "code",
   "execution_count": 3,
   "metadata": {},
   "outputs": [],
   "source": [
    "def mape(y_true, y_pred):\n",
    "    n = len(y_true)\n",
    "    mape = sum(np.abs((y_true - y_pred)/y_true))/n*100\n",
    "    return mape"
   ]
  },
  {
   "cell_type": "code",
   "execution_count": null,
   "metadata": {},
   "outputs": [],
   "source": []
  }
 ],
 "metadata": {
  "kernelspec": {
   "display_name": "Python 3",
   "language": "python",
   "name": "python3"
  },
  "language_info": {
   "codemirror_mode": {
    "name": "ipython",
    "version": 3
   },
   "file_extension": ".py",
   "mimetype": "text/x-python",
   "name": "python",
   "nbconvert_exporter": "python",
   "pygments_lexer": "ipython3",
   "version": "3.7.3"
  }
 },
 "nbformat": 4,
 "nbformat_minor": 2
}
